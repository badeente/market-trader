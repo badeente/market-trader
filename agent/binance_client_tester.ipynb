{
 "cells": [
  {
   "cell_type": "code",
   "execution_count": 4,
   "metadata": {},
   "outputs": [],
   "source": [
    "from binance.client import Client\n",
    "import time\n",
    "\n",
    "API_KEY = '9M67w48O1iXv7Eoojcy9f803HpUDGQLYBCYCpt904ENRfF1vuxRpHlp1xvKTsJZK'\n",
    "SECRET_KEY = 'remfT6bA3T8efZon8EXvvnlJtKPBybhUMOd5XPKi5kbJ425B3cCjtitwGWh7XtU3'"
   ]
  },
  {
   "cell_type": "code",
   "execution_count": 5,
   "metadata": {},
   "outputs": [],
   "source": [
    "client = Client(API_KEY, SECRET_KEY, testnet=True)\n"
   ]
  },
  {
   "cell_type": "code",
   "execution_count": 6,
   "metadata": {},
   "outputs": [
    {
     "name": "stdout",
     "output_type": "stream",
     "text": [
      "41259\n",
      "nicht ganz so große zahl\n"
     ]
    }
   ],
   "source": [
    "print(34785+6474)\n",
    "result = 8485+83445\n",
    "if(result>100000):\n",
    "    print(\"ziemlich große zahl\")\n",
    "else:\n",
    "    print(\"nicht ganz so große zahl\")\n"
   ]
  },
  {
   "cell_type": "code",
   "execution_count": 7,
   "metadata": {},
   "outputs": [],
   "source": [
    "symbol = \"BTCUSDT\"\n",
    "buy_price_threshold = 60000\n",
    "sell_price_threshold = 68000\n",
    "trade_quantity = 0.001"
   ]
  },
  {
   "cell_type": "code",
   "execution_count": 8,
   "metadata": {},
   "outputs": [],
   "source": [
    "def get_current_price(symbol):\n",
    "    ticker = client.get_symbol_ticker(symbol=symbol)\n",
    "    return float(ticker['price'])"
   ]
  },
  {
   "cell_type": "code",
   "execution_count": 10,
   "metadata": {},
   "outputs": [
    {
     "data": {
      "text/plain": [
       "87824.25"
      ]
     },
     "execution_count": 10,
     "metadata": {},
     "output_type": "execute_result"
    }
   ],
   "source": [
    "get_current_price(symbol='BTCUSDT')"
   ]
  }
 ],
 "metadata": {
  "kernelspec": {
   "display_name": ".venv",
   "language": "python",
   "name": "python3"
  },
  "language_info": {
   "codemirror_mode": {
    "name": "ipython",
    "version": 3
   },
   "file_extension": ".py",
   "mimetype": "text/x-python",
   "name": "python",
   "nbconvert_exporter": "python",
   "pygments_lexer": "ipython3",
   "version": "3.12.4"
  }
 },
 "nbformat": 4,
 "nbformat_minor": 2
}
